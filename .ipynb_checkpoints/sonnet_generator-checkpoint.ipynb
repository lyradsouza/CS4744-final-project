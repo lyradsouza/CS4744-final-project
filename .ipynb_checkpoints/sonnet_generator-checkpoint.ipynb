{
 "cells": [
  {
   "cell_type": "markdown",
   "id": "2d7f7964",
   "metadata": {},
   "source": [
    "## Setup"
   ]
  },
  {
   "cell_type": "code",
   "execution_count": 1,
   "id": "3214c73c",
   "metadata": {},
   "outputs": [],
   "source": [
    "# Imports\n",
    "\n",
    "import hfst_dev as hfst\n",
    "import graphviz\n",
    "import random\n",
    "\n",
    "import itertools\n",
    "import random\n",
    "from nltk.parse.generate import generate\n",
    "from nltk.probability import FreqDist\n",
    "from nltk import CFG\n",
    "from nltk import grammar"
   ]
  },
  {
   "cell_type": "code",
   "execution_count": 2,
   "id": "c853a4ab",
   "metadata": {},
   "outputs": [],
   "source": [
    "# Stream English \n",
    "\n",
    "istream = hfst.HfstInputStream('English')\n",
    "assert istream.is_good() == True\n",
    "English = istream.read()\n",
    "istream.close()"
   ]
  },
  {
   "cell_type": "code",
   "execution_count": 3,
   "id": "fd88eb35",
   "metadata": {},
   "outputs": [],
   "source": [
    "# Copied over from english.ipynb to sample input and output\n",
    "\n",
    "def sample_input(x,n=8,cycles=3):\n",
    "        x2 = x.copy()\n",
    "        x2.input_project()\n",
    "        x2.minimize()\n",
    "        return(random.sample(set(x2.extract_paths(max_cycles=3).keys()),n))\n",
    "def sample_output(x,n=8,cycles=3):\n",
    "        x2 = x.copy()\n",
    "        x2.output_project()\n",
    "        x2.minimize()\n",
    "        return(random.sample(set(x2.extract_paths(max_cycles=3).keys()),n))"
   ]
  },
  {
   "cell_type": "code",
   "execution_count": 29,
   "id": "457447eb",
   "metadata": {},
   "outputs": [],
   "source": [
    "# Set up definitions from phoneclass.fst \n",
    "\n",
    "defs = {'English' : English}\n",
    "\n",
    "VowAA = hfst.regex('AA0 | AA1 | AA2', definitions=defs)\n",
    "defs['VowAA'] = VowAA\n",
    "VowAE = hfst.regex('AE0 | AE1 | AE2', definitions=defs)\n",
    "defs['VowAE'] = VowAE\n",
    "VowAH = hfst.regex('AH0 | AH1 | AH2', definitions=defs)\n",
    "defs['VowAH'] = VowAH\n",
    "VowAO = hfst.regex('AO0 | AO1 | AO2', definitions=defs)\n",
    "defs['VowAO'] = VowAO\n",
    "VowAW = hfst.regex('AW0 | AW1 | AW2', definitions=defs)\n",
    "defs['VowAW'] = VowAW\n",
    "VowAY = hfst.regex('AY0 | AY1 | AY2', definitions=defs)\n",
    "defs['VowAY'] = VowAY\n",
    "VowEH = hfst.regex('EH0 | EH1 | EH2', definitions=defs)\n",
    "defs['VowEH'] = VowEH\n",
    "VowER = hfst.regex('ER0 | ER1 | ER2', definitions=defs)\n",
    "defs['VowER'] = VowER\n",
    "VowEY = hfst.regex('EY0 | EY1 | EY2', definitions=defs)\n",
    "defs['VowEY'] = VowEY\n",
    "VowIH = hfst.regex('IH0 | IH1 | IH2', definitions=defs)\n",
    "defs['VowIH'] = VowIH\n",
    "VowIY = hfst.regex('IY0 | IY1 | IY2', definitions=defs)\n",
    "defs['VowIY'] = VowIY\n",
    "VowOW = hfst.regex('OW0 | OW1 | OW2', definitions=defs)\n",
    "defs['VowOW'] = VowOW\n",
    "VowOY = hfst.regex('OY0 | OY1 | OY2', definitions=defs)\n",
    "defs['VowOY'] = VowOY\n",
    "VowUH = hfst.regex('UH0 | UH1 | UH2', definitions=defs)\n",
    "defs['VowUH'] = VowUH\n",
    "VowUW = hfst.regex('UW0 | UW1 | UW2', definitions=defs)\n",
    "defs['VowUW'] = VowUW\n",
    "\n",
    "Vow0 = hfst.regex('AH0| IH0| ER0| IY0| OW0| AA0| EH0| UW0| AE0| AO0| AY0| EY0| AW0| UH0| OY0', definitions=defs)\n",
    "defs['Vow0'] = Vow0\n",
    "Vow1 = hfst.regex('EH1| AE1| AA1| IH1| IY1| EY1| OW1| AO1| AY1| AH1| UW1| ER1| AW1| UH1| OY1', definitions=defs)\n",
    "defs['Vow1'] = Vow1\n",
    "Vow2 = hfst.regex('EH2| EY2| AE2| AY2| AA2| IH2| OW2| IY2| AO2| UW2| AH2| AW2| ER2| UH2| OY2', definitions=defs)\n",
    "defs['Vow2'] = Vow2\n",
    "\n",
    "Vow = hfst.regex('Vow0 | Vow1 | Vow2', definitions=defs)\n",
    "defs['Vow'] = Vow\n",
    "\n",
    "Nas = hfst.regex('N | M | NG', definitions=defs)\n",
    "defs['Nas'] = Nas\n",
    "\n",
    "Phone = hfst.regex('AH0| N| S| L| T| R| K| D| IH0| M| Z| ER0| IY0| B| EH1| P| AE1| AA1| IH1| F| G| V| IY1| NG| HH| EY1| W| SH| OW1| OW0| AO1| AY1| AH1| UW1| JH| Y| CH| AA0| ER1| EH2| EY2| AE2| AY2| AA2| EH0| IH2| TH| AW1| OW2| UW0| IY2| AO2| AE0| UH1| AO0| AY0| UW2| AH2| EY0| OY1| AW2| DH| ZH| ER2| UH2| AW0| UH0| OY2| OY0', definitions = defs)\n",
    "defs['Phone'] = Phone\n",
    "\n",
    "Cons = hfst.regex('[Phone - Vow]', definitions = defs)\n",
    "defs['Cons'] = Cons"
   ]
  },
  {
   "cell_type": "markdown",
   "id": "9c1f8ce8",
   "metadata": {},
   "source": [
    "## Creating Classes of Words Based on Stress"
   ]
  },
  {
   "cell_type": "markdown",
   "id": "7d72f6c2",
   "metadata": {},
   "source": [
    "### One Syllable Words"
   ]
  },
  {
   "cell_type": "markdown",
   "id": "f7d0cacc",
   "metadata": {},
   "source": [
    "#### Stressed"
   ]
  },
  {
   "cell_type": "code",
   "execution_count": 119,
   "id": "c5eb9ef1",
   "metadata": {},
   "outputs": [],
   "source": [
    "expr = '[English .o. [[ Cons* Vow1 Cons* ].l]].u'\n",
    "one_syl_stress = hfst.regex(expr, definitions=defs)"
   ]
  },
  {
   "cell_type": "code",
   "execution_count": 120,
   "id": "f1649202",
   "metadata": {},
   "outputs": [
    {
     "data": {
      "text/plain": [
       "['dro|wned', 'sank', 't|hreads', \"don't\", 'brest', 'kan|n', 'fein', 'mac|ks']"
      ]
     },
     "execution_count": 120,
     "metadata": {},
     "output_type": "execute_result"
    }
   ],
   "source": [
    "sample_input(one_syl_stress)"
   ]
  },
  {
   "cell_type": "markdown",
   "id": "55f93ae7",
   "metadata": {},
   "source": [
    "#### Unstressed"
   ]
  },
  {
   "cell_type": "code",
   "execution_count": 32,
   "id": "88983738",
   "metadata": {},
   "outputs": [],
   "source": [
    "expr = '[English .o. [[ Cons* Vow0 Cons* ].l]].u'\n",
    "one_syl_unstress = hfst.regex(expr, definitions=defs)"
   ]
  },
  {
   "cell_type": "code",
   "execution_count": 33,
   "id": "884a7ffe",
   "metadata": {},
   "outputs": [
    {
     "data": {
      "text/plain": [
       "['t|hem', 'whats', 'was', 'is', 'just', \"'cause\", 'le', 'if']"
      ]
     },
     "execution_count": 33,
     "metadata": {},
     "output_type": "execute_result"
    }
   ],
   "source": [
    "sample_input(one_syl_unstress)"
   ]
  },
  {
   "cell_type": "markdown",
   "id": "2fc7198a",
   "metadata": {},
   "source": [
    "### Two Syllable Words"
   ]
  },
  {
   "cell_type": "markdown",
   "id": "442fdd15",
   "metadata": {},
   "source": [
    "#### Main stress first"
   ]
  },
  {
   "cell_type": "code",
   "execution_count": 34,
   "id": "8af72513",
   "metadata": {},
   "outputs": [],
   "source": [
    "expr = '[English .o. [[Cons* Vow1 Cons* Vow0 Cons*] | [Cons* Vow1 Cons* Vow2 Cons*]].l].u'\n",
    "two_syl_first = hfst.regex(expr, definitions=defs)"
   ]
  },
  {
   "cell_type": "code",
   "execution_count": 35,
   "id": "dea8b810",
   "metadata": {},
   "outputs": [
    {
     "data": {
      "text/plain": [
       "['lenhof|f',\n",
       " 'mu|rrie',\n",
       " 'roc|kholt',\n",
       " 'betze|r',\n",
       " 'obe|rg',\n",
       " \"dylan'|s\",\n",
       " 'petsmart',\n",
       " 'nesto|r']"
      ]
     },
     "execution_count": 35,
     "metadata": {},
     "output_type": "execute_result"
    }
   ],
   "source": [
    "sample_input(two_syl_first)"
   ]
  },
  {
   "cell_type": "markdown",
   "id": "69df8093",
   "metadata": {},
   "source": [
    "#### Main stress second "
   ]
  },
  {
   "cell_type": "code",
   "execution_count": 36,
   "id": "c44b687f",
   "metadata": {},
   "outputs": [],
   "source": [
    "expr = '[English .o. [[Cons* Vow0 Cons* Vow1 Cons*] | [Cons* Vow2 Cons* Vow1 Cons*]].l].u'\n",
    "two_syl_sec = hfst.regex(expr, definitions=defs)"
   ]
  },
  {
   "cell_type": "code",
   "execution_count": 37,
   "id": "67f9e778",
   "metadata": {},
   "outputs": [
    {
     "data": {
      "text/plain": [
       "['elrod',\n",
       " 'revive',\n",
       " 'tyco|ons',\n",
       " 'camil|le',\n",
       " 'veil|leu|x',\n",
       " 'techniq|ues',\n",
       " 'retu|rned',\n",
       " 't|heirselves']"
      ]
     },
     "execution_count": 37,
     "metadata": {},
     "output_type": "execute_result"
    }
   ],
   "source": [
    "sample_input(two_syl_sec)"
   ]
  },
  {
   "cell_type": "markdown",
   "id": "a379d2fb",
   "metadata": {},
   "source": [
    "#### Both syllables stressed"
   ]
  },
  {
   "cell_type": "code",
   "execution_count": 69,
   "id": "44de2172",
   "metadata": {},
   "outputs": [],
   "source": [
    "expr = '[English .o. [[ Cons* Vow1 Cons* Vow1 Cons* ]].l].u'\n",
    "two_syl_both = hfst.regex(expr, definitions=defs)"
   ]
  },
  {
   "cell_type": "code",
   "execution_count": 70,
   "id": "0130ae1a",
   "metadata": {},
   "outputs": [
    {
     "data": {
      "text/plain": [
       "['o|ut-mode',\n",
       " 'mida|ir',\n",
       " 'xia|oyun',\n",
       " 'hado|op',\n",
       " 's|hen|g-fen',\n",
       " 'coates',\n",
       " 'jifen|g',\n",
       " 'ga|itskil|l']"
      ]
     },
     "execution_count": 70,
     "metadata": {},
     "output_type": "execute_result"
    }
   ],
   "source": [
    "sample_input(two_syl_both)"
   ]
  },
  {
   "cell_type": "markdown",
   "id": "238843df",
   "metadata": {},
   "source": [
    "#### Both syllables unstressed"
   ]
  },
  {
   "cell_type": "code",
   "execution_count": 75,
   "id": "276a652e",
   "metadata": {},
   "outputs": [],
   "source": [
    "expr = '[English .o. [[ Cons* Vow0 Cons* Vow0 Cons* ]].l].u'\n",
    "two_syl_none = hfst.regex(expr, definitions=defs)"
   ]
  },
  {
   "cell_type": "code",
   "execution_count": 76,
   "id": "1e38e53c",
   "metadata": {},
   "outputs": [
    {
     "data": {
      "text/plain": [
       "['ratc|het',\n",
       " \"t|his'l|l\",\n",
       " 'manza',\n",
       " 'olme|rt',\n",
       " 'detar',\n",
       " 'salim',\n",
       " 'l|lorens',\n",
       " 'into']"
      ]
     },
     "execution_count": 76,
     "metadata": {},
     "output_type": "execute_result"
    }
   ],
   "source": [
    "sample_input(two_syl_none)"
   ]
  },
  {
   "cell_type": "markdown",
   "id": "58f094c4",
   "metadata": {},
   "source": [
    "### Three Syllable Words"
   ]
  },
  {
   "cell_type": "markdown",
   "id": "99dda2fb",
   "metadata": {},
   "source": [
    "#### Stressed, unstressed, stressed"
   ]
  },
  {
   "cell_type": "code",
   "execution_count": 134,
   "id": "d56466de",
   "metadata": {},
   "outputs": [],
   "source": [
    "expr = '[English .o. [[ Cons* [Vow1 | Vow2] Cons* Vow0 Cons* [Vow1 | Vow2] Cons*]].l].u'\n",
    "three_syl_sus_1 = hfst.regex(expr, definitions=defs)"
   ]
  },
  {
   "cell_type": "code",
   "execution_count": 135,
   "id": "8151160c",
   "metadata": {},
   "outputs": [
    {
     "data": {
      "text/plain": [
       "['reimbu|rse|d',\n",
       " 'multifo|ods',\n",
       " 'captivates',\n",
       " 'horoscopes',\n",
       " 'op|penheim',\n",
       " 'moleskine',\n",
       " 'semi-heig|hts',\n",
       " 'peristyle']"
      ]
     },
     "execution_count": 135,
     "metadata": {},
     "output_type": "execute_result"
    }
   ],
   "source": [
    "sample_input(three_syl_sus_1)"
   ]
  },
  {
   "cell_type": "code",
   "execution_count": 136,
   "id": "a9f59092",
   "metadata": {},
   "outputs": [],
   "source": [
    "expr = '[English .o. [[ Cons* [Vow1 | Vow2] Cons* Vow2 Cons* Vow1 Cons*]].l].u'\n",
    "three_syl_sus_2 = hfst.regex(expr, definitions=defs)"
   ]
  },
  {
   "cell_type": "code",
   "execution_count": 137,
   "id": "ce6b4c90",
   "metadata": {},
   "outputs": [
    {
     "data": {
      "text/plain": [
       "['hit|herto',\n",
       " 'receptech',\n",
       " 'proteome',\n",
       " 'grandmaison',\n",
       " 'derrida',\n",
       " 'bourgeoisie',\n",
       " 'la-carre',\n",
       " 'taekwondo']"
      ]
     },
     "execution_count": 137,
     "metadata": {},
     "output_type": "execute_result"
    }
   ],
   "source": [
    "sample_input(three_syl_sus_2)"
   ]
  },
  {
   "cell_type": "code",
   "execution_count": 138,
   "id": "761d3bef",
   "metadata": {},
   "outputs": [],
   "source": [
    "expr = '[English .o. [[ Cons* Vow1 Cons* Vow2 Cons* [Vow1 | Vow2] Cons*]].l].u'\n",
    "three_syl_sus_3 = hfst.regex(expr, definitions=defs)"
   ]
  },
  {
   "cell_type": "code",
   "execution_count": 139,
   "id": "fdc09bd8",
   "metadata": {},
   "outputs": [
    {
     "data": {
      "text/plain": [
       "['polychrome',\n",
       " 'elbo|wro|om',\n",
       " 'orasure',\n",
       " 'mi|yako',\n",
       " 'econs|hips',\n",
       " 'creolized',\n",
       " 'fa|yet|tevil|le',\n",
       " \"kuomintan|g'|s\"]"
      ]
     },
     "execution_count": 139,
     "metadata": {},
     "output_type": "execute_result"
    }
   ],
   "source": [
    "sample_input(three_syl_sus_3)"
   ]
  },
  {
   "cell_type": "markdown",
   "id": "0b1cc1ee",
   "metadata": {},
   "source": [
    "#### Unstressed, stressed, unstressed"
   ]
  },
  {
   "cell_type": "code",
   "execution_count": 166,
   "id": "bab5a1fa",
   "metadata": {},
   "outputs": [],
   "source": [
    "expr = '[English .o. [[ Cons* Vow0 Cons* Vow1 Cons* Vow0 Cons*]].l].u'\n",
    "three_syl_usu_1 = hfst.regex(expr, definitions=defs)"
   ]
  },
  {
   "cell_type": "code",
   "execution_count": 167,
   "id": "343c7623",
   "metadata": {},
   "outputs": [
    {
     "data": {
      "text/plain": [
       "[\"relig|ion'|s\",\n",
       " 'citat|ion',\n",
       " 'mcgegan',\n",
       " \"batista'|s\",\n",
       " 'pul|lano',\n",
       " \"muham|med'|s\",\n",
       " 'masino',\n",
       " 'berudi']"
      ]
     },
     "execution_count": 167,
     "metadata": {},
     "output_type": "execute_result"
    }
   ],
   "source": [
    "sample_input(three_syl_usu_1)"
   ]
  },
  {
   "cell_type": "code",
   "execution_count": 168,
   "id": "7bc5bd2e",
   "metadata": {},
   "outputs": [],
   "source": [
    "expr = '[English .o. [[ Cons* [Vow0 | Vow2] Cons* Vow1 Cons* [Vow0 | Vow2] Cons*]].l].u'\n",
    "three_syl_usu_2 = hfst.regex(expr, definitions=defs)"
   ]
  },
  {
   "cell_type": "code",
   "execution_count": 169,
   "id": "bb49cb60",
   "metadata": {},
   "outputs": [
    {
     "data": {
      "text/plain": [
       "['g|uarino',\n",
       " 'elicits',\n",
       " 'dilul|lo',\n",
       " 'as|sistance',\n",
       " 'ma|rineland',\n",
       " 'hispanics',\n",
       " 'petril|li',\n",
       " 'vinita']"
      ]
     },
     "execution_count": 169,
     "metadata": {},
     "output_type": "execute_result"
    }
   ],
   "source": [
    "sample_input(three_syl_usu_2)"
   ]
  }
 ],
 "metadata": {
  "kernelspec": {
   "display_name": "p3env",
   "language": "python",
   "name": "p3env"
  },
  "language_info": {
   "codemirror_mode": {
    "name": "ipython",
    "version": 3
   },
   "file_extension": ".py",
   "mimetype": "text/x-python",
   "name": "python",
   "nbconvert_exporter": "python",
   "pygments_lexer": "ipython3",
   "version": "3.7.6"
  }
 },
 "nbformat": 4,
 "nbformat_minor": 5
}
